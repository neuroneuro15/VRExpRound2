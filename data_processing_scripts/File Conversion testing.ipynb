{
 "cells": [
  {
   "cell_type": "code",
   "execution_count": 1,
   "metadata": {
    "collapsed": true
   },
   "outputs": [],
   "source": [
    "import os\n",
    "from os import path\n",
    "from glob import glob"
   ]
  },
  {
   "cell_type": "code",
   "execution_count": 75,
   "metadata": {
    "collapsed": false
   },
   "outputs": [
    {
     "data": {
      "text/plain": [
       "['Project 0',\n",
       " 'Project 01.06.2017',\n",
       " 'Project 02.06.2017',\n",
       " 'Project 03.06.2017',\n",
       " 'Project 07.05.2017',\n",
       " 'Project 15.05.2017',\n",
       " 'Project 17.05.2017',\n",
       " 'Project 22.05.2017',\n",
       " 'Project 24.05.2017',\n",
       " 'Project 25.05.2017',\n",
       " 'Project 26.05.2017',\n",
       " 'Project 27.05.2017',\n",
       " 'Project 29.05.2017',\n",
       " 'Project 30.05.2017',\n",
       " 'Project 31.05.2017',\n",
       " 'Project 14.06.2017',\n",
       " 'Project 06.06.2017',\n",
       " 'Project 07.06.2017',\n",
       " 'Project 08.06.2017',\n",
       " 'Project 09.07.2017',\n",
       " 'Project 12.06.2017',\n",
       " 'Project 13.06.2017']"
      ]
     },
     "execution_count": 75,
     "metadata": {},
     "output_type": "execute_result"
    }
   ],
   "source": [
    "basedir = path.join(r\"Z://nickdg/data/VR_Experiments_Round_2/Motive Files/VR_Experiment_Data\\MotiveProjects_2\")\n",
    "# basedir = \"Z://nickdg/data/VR Methods Experiments, Round 2/Motive Files/VR_Experiment_Data\"\n",
    "\n",
    "os.listdir(basedir)"
   ]
  },
  {
   "cell_type": "code",
   "execution_count": null,
   "metadata": {
    "collapsed": true
   },
   "outputs": [],
   "source": []
  },
  {
   "cell_type": "code",
   "execution_count": 87,
   "metadata": {
    "collapsed": false
   },
   "outputs": [
    {
     "data": {
      "text/plain": [
       "'Z://nickdg/data/VR_Experiments_Round_2/Motive Files/VR_Experiment_Data\\\\MotiveProjects_2\\\\Project 0\\\\Session 2017-05-03\\\\VR_Habit_1A_E.tak'"
      ]
     },
     "execution_count": 87,
     "metadata": {},
     "output_type": "execute_result"
    }
   ],
   "source": [
    "testfile = path.join(basedir, 'Project 0', 'Session 2017-05-03', 'VR_Habit_1A_E.tak')\n",
    "testfile"
   ]
  },
  {
   "cell_type": "code",
   "execution_count": 88,
   "metadata": {
    "collapsed": false
   },
   "outputs": [
    {
     "data": {
      "text/plain": [
       "True"
      ]
     },
     "execution_count": 88,
     "metadata": {},
     "output_type": "execute_result"
    }
   ],
   "source": [
    "path.exists(testfile)"
   ]
  },
  {
   "cell_type": "code",
   "execution_count": 93,
   "metadata": {
    "collapsed": true
   },
   "outputs": [],
   "source": [
    "from datetime import datetime\n",
    "datetime.strftime"
   ]
  },
  {
   "cell_type": "code",
   "execution_count": 103,
   "metadata": {
    "collapsed": false
   },
   "outputs": [
    {
     "data": {
      "text/plain": [
       "'20170503_164811'"
      ]
     },
     "execution_count": 103,
     "metadata": {},
     "output_type": "execute_result"
    }
   ],
   "source": [
    "datetime.fromtimestamp(path.getctime(testfile)).strftime('%Y%m%d_%H%M%S')"
   ]
  },
  {
   "cell_type": "code",
   "execution_count": 47,
   "metadata": {
    "collapsed": false
   },
   "outputs": [
    {
     "data": {
      "text/plain": [
       "'Z://nickdg/data/VR Methods Experiments, Round 2/Motive Files/VR_Experiment_Data\\\\MotiveProjects_2'"
      ]
     },
     "execution_count": 47,
     "metadata": {},
     "output_type": "execute_result"
    }
   ],
   "source": [
    "take_basedir = path.join(basedir, 'MotiveProjects_2')\n",
    "take_basedir"
   ]
  },
  {
   "cell_type": "code",
   "execution_count": 65,
   "metadata": {
    "collapsed": false
   },
   "outputs": [
    {
     "name": "stdout",
     "output_type": "stream",
     "text": [
      "Z://nickdg/data/VR Methods Experiments, Round 2/Motive Files/VR_Experiment_Data\\MotiveProjects_2\\Project 0\\Session 2017-05-03\\VR_Habit_1A_E.tak\n",
      "Z://nickdg/data/VR Methods Experiments, Round 2/Motive Files/VR_Experiment_Data\\MotiveProjects_2\\Project 0\\Session 2017-05-03\\VR_Habit_2A_E.tak\n",
      "Z://nickdg/data/VR Methods Experiments, Round 2/Motive Files/VR_Experiment_Data\\MotiveProjects_2\\Project 0\\Session 2017-05-03\\VR_Habit_2A_E_000.tak\n",
      "Z://nickdg/data/VR Methods Experiments, Round 2/Motive Files/VR_Experiment_Data\\MotiveProjects_2\\Project 0\\Session 2017-05-03\\VR_Habit_2B_E.tak\n",
      "Z://nickdg/data/VR Methods Experiments, Round 2/Motive Files/VR_Experiment_Data\\MotiveProjects_2\\Project 0\\Session 2017-05-03\\VR_Habit_3A_E_.tak\n",
      "Z://nickdg/data/VR Methods Experiments, Round 2/Motive Files/VR_Experiment_Data\\MotiveProjects_2\\Project 0\\Session 2017-05-03\\VR_Habit_3B_E_.tak\n",
      "Z://nickdg/data/VR Methods Experiments, Round 2/Motive Files/VR_Experiment_Data\\MotiveProjects_2\\Project 0\\Session 2017-05-03\\VR_Habit_4B_N.tak\n",
      "Z://nickdg/data/VR Methods Experiments, Round 2/Motive Files/VR_Experiment_Data\\MotiveProjects_2\\Project 0\\Session 2017-05-03\\VR_Habit_5B_N.tak\n",
      "Z://nickdg/data/VR Methods Experiments, Round 2/Motive Files/VR_Experiment_Data\\MotiveProjects_2\\Project 0\\Session 2017-05-03\\VR_Habit_TestA.tak\n"
     ]
    }
   ],
   "source": [
    "for (currpath, pathnames, fnames), idx in zip(os.walk(take_basedir), range(3)):\n",
    "    take_files = glob(path.join(currpath, '*.tak'))\n",
    "    for fname in take_files:\n",
    "        print(fname)"
   ]
  },
  {
   "cell_type": "code",
   "execution_count": null,
   "metadata": {
    "collapsed": true
   },
   "outputs": [],
   "source": []
  }
 ],
 "metadata": {
  "kernelspec": {
   "display_name": "Python 2",
   "language": "python",
   "name": "python2"
  },
  "language_info": {
   "codemirror_mode": {
    "name": "ipython",
    "version": 2
   },
   "file_extension": ".py",
   "mimetype": "text/x-python",
   "name": "python",
   "nbconvert_exporter": "python",
   "pygments_lexer": "ipython2",
   "version": "2.7.13"
  }
 },
 "nbformat": 4,
 "nbformat_minor": 0
}
